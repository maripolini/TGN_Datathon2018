{
  "nbformat": 4,
  "nbformat_minor": 0,
  "metadata": {
    "colab": {
      "name": "Team_10",
      "version": "0.3.2",
      "provenance": [],
      "collapsed_sections": []
    }
  },
  "cells": [
    {
      "metadata": {
        "id": "yljTSWJQwjW2",
        "colab_type": "text"
      },
      "cell_type": "markdown",
      "source": [
        "# TARRAGONA DATATHON, November 2018\n",
        "## team_10 activities\n",
        "\n",
        "*   Marianna Polini: Data Scientist / SQL-Databases\n",
        "*   Christian Villavicencio: Clinician\n",
        "*   Eva Machado: Clinician\n",
        "*   Raquel Carbonell: Clinician\n",
        "*   Diana Gil: Clinician\n",
        "*   Laia Labad: Clinician\n",
        "*   Santiago Frias: Data Scientist / Statistics-Models\n",
        "\n"
      ]
    },
    {
      "metadata": {
        "id": "93B6Rgpg00jk",
        "colab_type": "text"
      },
      "cell_type": "markdown",
      "source": [
        "## Septic Shock query and stay time representation"
      ]
    },
    {
      "metadata": {
        "id": "rS9g4-r7uohe",
        "colab_type": "code",
        "colab": {
          "base_uri": "https://localhost:8080/",
          "height": 68
        },
        "outputId": "d0a00d6f-514b-40ec-e7c6-67ce4d676dd7"
      },
      "cell_type": "code",
      "source": [
        "# Importacion Librerias\n",
        "import numpy\n",
        "print('numpy Version: ',numpy.__version__)\n",
        "import os\n",
        "import pandas\n",
        "print('Pandas Version: ',pandas.__version__)\n",
        "import matplotlib.pyplot as pyplot\n",
        "import matplotlib.patches as patches\n",
        "import matplotlib.path as path\n",
        "import tensorflow\n",
        "print('tensorflow Version: ',tensorflow.__version__)\n",
        "# Visualización Dataframes\n",
        "from IPython.display import display, HTML\n",
        "\n",
        "# Acceso repositorio datos Datathon.\n",
        "from google.colab import auth\n",
        "from google.cloud import bigquery"
      ],
      "execution_count": 9,
      "outputs": [
        {
          "output_type": "stream",
          "text": [
            "('numpy Version: ', '1.14.6')\n",
            "('Pandas Version: ', u'0.22.0')\n",
            "('tensorflow Version: ', '1.12.0')\n"
          ],
          "name": "stdout"
        }
      ]
    },
    {
      "metadata": {
        "id": "HDL3CjUKvddl",
        "colab_type": "code",
        "colab": {}
      },
      "cell_type": "code",
      "source": [
        "# Autentificacion BigQuery, generacion resumen verificacion a pegar despues de validacion.\n",
        "auth.authenticate_user()"
      ],
      "execution_count": 0,
      "outputs": []
    },
    {
      "metadata": {
        "id": "nx4ZDlJ6we9j",
        "colab_type": "code",
        "colab": {}
      },
      "cell_type": "code",
      "source": [
        "# Hosting solo lectura proyecto datathon-tarragona-2018\n",
        "# Creado proyecto compartido team_10 asignado en este kernel\n",
        "project_id='datathon-tarragona-2018'\n",
        "os.environ[\"GOOGLE_CLOUD_PROJECT\"]=project_id"
      ],
      "execution_count": 0,
      "outputs": []
    },
    {
      "metadata": {
        "id": "DIbbCE3YxLdM",
        "colab_type": "code",
        "colab": {}
      },
      "cell_type": "code",
      "source": [
        "# Asignar configuracion de la ejecucion de sentencias SQL en BigQuery\n",
        "def run_query(query):\n",
        "  return pandas.io.gbq.read_gbq(query, project_id=project_id, verbose=True, configuration={'query':{'useLegacySql': True}})"
      ],
      "execution_count": 0,
      "outputs": []
    },
    {
      "metadata": {
        "id": "0BKEaZ0mAS_a",
        "colab_type": "code",
        "colab": {}
      },
      "cell_type": "code",
      "source": [
        "consulta = run_query(\"SELECT patientunitstayid,activeupondischarge,diagnosisoffset FROM [physionet-data:eicu_crd.diagnosis] WHERE LOWER(diagnosisstring) LIKE '%septic shock%' ORDER BY patientunitstayid, diagnosisoffset\")"
      ],
      "execution_count": 0,
      "outputs": []
    },
    {
      "metadata": {
        "id": "OLfhw6-PnmcB",
        "colab_type": "code",
        "colab": {}
      },
      "cell_type": "code",
      "source": [
        "# print(consulta.diagnosisoffset)"
      ],
      "execution_count": 0,
      "outputs": []
    },
    {
      "metadata": {
        "id": "EQa4uN_TkXI3",
        "colab_type": "code",
        "colab": {}
      },
      "cell_type": "code",
      "source": [
        "# type(consulta.diagnosisoffset)"
      ],
      "execution_count": 0,
      "outputs": []
    },
    {
      "metadata": {
        "id": "nFZubIs0gtH1",
        "colab_type": "code",
        "colab": {
          "base_uri": "https://localhost:8080/",
          "height": 378
        },
        "outputId": "b44708fb-2d7a-4649-bb5b-1b0d8e1b1218"
      },
      "cell_type": "code",
      "source": [
        "# Scatter Plot de correlacion entre eje x, eje y, de ejemplo\n",
        "consulta.plot(kind='scatter',x='patientunitstayid',y='diagnosisoffset')"
      ],
      "execution_count": 19,
      "outputs": [
        {
          "output_type": "execute_result",
          "data": {
            "text/plain": [
              "<matplotlib.axes._subplots.AxesSubplot at 0x7ff3d1282510>"
            ]
          },
          "metadata": {
            "tags": []
          },
          "execution_count": 19
        },
        {
          "output_type": "display_data",
          "data": {
            "image/png": "[encoded data removed]",
            "text/plain": [
              "<matplotlib.figure.Figure at 0x7ff40192d710>"
            ]
          },
          "metadata": {
            "tags": []
          }
        }
      ]
    },
    {
      "metadata": {
        "id": "EiPORXw3plwO",
        "colab_type": "code",
        "colab": {}
      },
      "cell_type": "code",
      "source": [
        "#"
      ],
      "execution_count": 0,
      "outputs": []
    },
    {
      "metadata": {
        "id": "esfC95WJp4QW",
        "colab_type": "code",
        "colab": {}
      },
      "cell_type": "code",
      "source": [
        "#"
      ],
      "execution_count": 0,
      "outputs": []
    }
  ]
}